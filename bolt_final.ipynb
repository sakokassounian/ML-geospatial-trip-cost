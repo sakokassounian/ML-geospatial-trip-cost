{
 "cells": [
  {
   "cell_type": "markdown",
   "id": "saving-conversation",
   "metadata": {},
   "source": [
    "# Geospatial case study in ML"
   ]
  },
  {
   "cell_type": "markdown",
   "id": "widespread-danish",
   "metadata": {},
   "source": [
    "The 5 steps of data science would include:\n",
    "    \n",
    "    1. Acquire the data\n",
    "    2. Prepare the data and do EDA \n",
    "    3. Analyze (Analysis and model deployment)\n",
    "    4. Report (Estimate metrics)\n",
    "    5. Act (A/B testing and iteration)\n",
    "    6. Deploy and monitor"
   ]
  },
  {
   "cell_type": "markdown",
   "id": "complete-skirt",
   "metadata": {},
   "source": [
    "### Packages"
   ]
  },
  {
   "cell_type": "code",
   "execution_count": 41,
   "id": "distinguished-waterproof",
   "metadata": {},
   "outputs": [
    {
     "name": "stdout",
     "output_type": "stream",
     "text": [
      "numpy==1.21.4\n",
      "pandas==1.2.3\n",
      "matplotlib==3.5.0\n",
      "tqdm==4.50.2\n",
      "shapely==1.7.1\n",
      "seaborn==0.11.1\n"
     ]
    }
   ],
   "source": [
    "import numpy as np\n",
    "import pandas as pd\n",
    "import matplotlib.pyplot as plt\n",
    "from tqdm import tqdm \n",
    "tqdm.pandas()\n",
    "import geopandas as gpd\n",
    "from shapely.geometry import Point\n",
    "import seaborn as sns\n",
    "import sys\n",
    "\n",
    "# Get a dictionary of all loaded modules\n",
    "loaded_modules = sys.modules\n",
    "\n",
    "\n",
    "# Print the name and version of each loaded module\n",
    "libraries = ['pandas','tqdm','numpy','sys','shapely','seaborn','matplotlib']\n",
    "for module_name, module in loaded_modules.items():\n",
    "    if module_name in libraries:\n",
    "        if hasattr(module, \"__version__\"):\n",
    "            print(f\"{module_name}=={module.__version__}\")"
   ]
  },
  {
   "cell_type": "markdown",
   "id": "objective-cholesterol",
   "metadata": {},
   "source": [
    "### Step 1: Acquire the data\n",
    "\n",
    "#### Origin - Destination data\n",
    "I was given a set of data which included: Approximately 630000 rows of synthetic ride demand data which resembles the real-life situation in the city of Tallinn:\n",
    "\n",
    "* start_time - time when the order was made\n",
    "* start_lat - latitude of the location where the order was made\n",
    "* start_lng - longitude of the location where the order was made\n",
    "* end_lat - latitude of the destination point\n",
    "* end_lng - longitude of the destination point\n",
    "* ride_value - how much monetary value is in this particular ride\n"
   ]
  },
  {
   "cell_type": "code",
   "execution_count": 44,
   "id": "enabling-express",
   "metadata": {
    "scrolled": false
   },
   "outputs": [
    {
     "data": {
      "text/html": [
       "<div>\n",
       "<style scoped>\n",
       "    .dataframe tbody tr th:only-of-type {\n",
       "        vertical-align: middle;\n",
       "    }\n",
       "\n",
       "    .dataframe tbody tr th {\n",
       "        vertical-align: top;\n",
       "    }\n",
       "\n",
       "    .dataframe thead th {\n",
       "        text-align: right;\n",
       "    }\n",
       "</style>\n",
       "<table border=\"1\" class=\"dataframe\">\n",
       "  <thead>\n",
       "    <tr style=\"text-align: right;\">\n",
       "      <th></th>\n",
       "      <th>start_time</th>\n",
       "      <th>start_lat</th>\n",
       "      <th>start_lng</th>\n",
       "      <th>end_lat</th>\n",
       "      <th>end_lng</th>\n",
       "      <th>ride_value</th>\n",
       "    </tr>\n",
       "  </thead>\n",
       "  <tbody>\n",
       "    <tr>\n",
       "      <th>81128</th>\n",
       "      <td>2022-03-15 08:53:04.261384999</td>\n",
       "      <td>59.440044</td>\n",
       "      <td>24.737641</td>\n",
       "      <td>59.431363</td>\n",
       "      <td>24.754593</td>\n",
       "      <td>0.336500</td>\n",
       "    </tr>\n",
       "    <tr>\n",
       "      <th>198523</th>\n",
       "      <td>2022-03-22 16:00:36.609385000</td>\n",
       "      <td>59.406649</td>\n",
       "      <td>24.733505</td>\n",
       "      <td>59.426206</td>\n",
       "      <td>24.647257</td>\n",
       "      <td>1.314000</td>\n",
       "    </tr>\n",
       "    <tr>\n",
       "      <th>165528</th>\n",
       "      <td>2022-03-23 20:12:20.217997000</td>\n",
       "      <td>59.408039</td>\n",
       "      <td>24.689985</td>\n",
       "      <td>59.393868</td>\n",
       "      <td>24.796644</td>\n",
       "      <td>1.531000</td>\n",
       "    </tr>\n",
       "    <tr>\n",
       "      <th>355962</th>\n",
       "      <td>2022-03-27 16:35:16.995176000</td>\n",
       "      <td>59.448557</td>\n",
       "      <td>24.736075</td>\n",
       "      <td>59.426747</td>\n",
       "      <td>24.782278</td>\n",
       "      <td>0.881500</td>\n",
       "    </tr>\n",
       "    <tr>\n",
       "      <th>413520</th>\n",
       "      <td>2022-03-24 11:30:37.798024000</td>\n",
       "      <td>59.432594</td>\n",
       "      <td>24.729321</td>\n",
       "      <td>59.436364</td>\n",
       "      <td>24.756087</td>\n",
       "      <td>0.385750</td>\n",
       "    </tr>\n",
       "    <tr>\n",
       "      <th>268752</th>\n",
       "      <td>2022-03-17 22:06:06.675000000</td>\n",
       "      <td>59.446531</td>\n",
       "      <td>24.873835</td>\n",
       "      <td>59.428972</td>\n",
       "      <td>24.792698</td>\n",
       "      <td>1.234349</td>\n",
       "    </tr>\n",
       "    <tr>\n",
       "      <th>560588</th>\n",
       "      <td>2022-03-23 22:10:01.583070000</td>\n",
       "      <td>59.440361</td>\n",
       "      <td>24.750592</td>\n",
       "      <td>59.307806</td>\n",
       "      <td>24.645270</td>\n",
       "      <td>3.958000</td>\n",
       "    </tr>\n",
       "    <tr>\n",
       "      <th>35000</th>\n",
       "      <td>2022-03-09 23:02:32.725266000</td>\n",
       "      <td>59.383943</td>\n",
       "      <td>24.672430</td>\n",
       "      <td>59.430086</td>\n",
       "      <td>24.719735</td>\n",
       "      <td>1.438750</td>\n",
       "    </tr>\n",
       "    <tr>\n",
       "      <th>192662</th>\n",
       "      <td>2022-03-26 21:01:22.782566000</td>\n",
       "      <td>59.513519</td>\n",
       "      <td>24.829511</td>\n",
       "      <td>59.407760</td>\n",
       "      <td>24.732466</td>\n",
       "      <td>3.228750</td>\n",
       "    </tr>\n",
       "    <tr>\n",
       "      <th>600184</th>\n",
       "      <td>2022-03-20 20:14:53.998000000</td>\n",
       "      <td>59.399051</td>\n",
       "      <td>24.670892</td>\n",
       "      <td>59.425477</td>\n",
       "      <td>24.793341</td>\n",
       "      <td>1.849105</td>\n",
       "    </tr>\n",
       "  </tbody>\n",
       "</table>\n",
       "</div>"
      ],
      "text/plain": [
       "                           start_time  start_lat  start_lng    end_lat  \\\n",
       "81128   2022-03-15 08:53:04.261384999  59.440044  24.737641  59.431363   \n",
       "198523  2022-03-22 16:00:36.609385000  59.406649  24.733505  59.426206   \n",
       "165528  2022-03-23 20:12:20.217997000  59.408039  24.689985  59.393868   \n",
       "355962  2022-03-27 16:35:16.995176000  59.448557  24.736075  59.426747   \n",
       "413520  2022-03-24 11:30:37.798024000  59.432594  24.729321  59.436364   \n",
       "268752  2022-03-17 22:06:06.675000000  59.446531  24.873835  59.428972   \n",
       "560588  2022-03-23 22:10:01.583070000  59.440361  24.750592  59.307806   \n",
       "35000   2022-03-09 23:02:32.725266000  59.383943  24.672430  59.430086   \n",
       "192662  2022-03-26 21:01:22.782566000  59.513519  24.829511  59.407760   \n",
       "600184  2022-03-20 20:14:53.998000000  59.399051  24.670892  59.425477   \n",
       "\n",
       "          end_lng  ride_value  \n",
       "81128   24.754593    0.336500  \n",
       "198523  24.647257    1.314000  \n",
       "165528  24.796644    1.531000  \n",
       "355962  24.782278    0.881500  \n",
       "413520  24.756087    0.385750  \n",
       "268752  24.792698    1.234349  \n",
       "560588  24.645270    3.958000  \n",
       "35000   24.719735    1.438750  \n",
       "192662  24.732466    3.228750  \n",
       "600184  24.793341    1.849105  "
      ]
     },
     "execution_count": 44,
     "metadata": {},
     "output_type": "execute_result"
    }
   ],
   "source": [
    "#I will use pandas for the data manipulation\n",
    "database = pd.read_csv('/home/sako/Data science lessons/bolt/robotex5.csv')\n",
    "\n",
    "#visualizedatabase.describe().T ten random rows of the imported csv\n",
    "database.sample(10)"
   ]
  },
  {
   "cell_type": "markdown",
   "id": "broken-reynolds",
   "metadata": {},
   "source": [
    "### Step 2: Prepare\n",
    "\n",
    "#### Explore\n",
    "\n",
    "First we will start doing a few explorations to the data"
   ]
  },
  {
   "cell_type": "code",
   "execution_count": 45,
   "id": "instructional-heart",
   "metadata": {},
   "outputs": [
    {
     "data": {
      "text/html": [
       "<div>\n",
       "<style scoped>\n",
       "    .dataframe tbody tr th:only-of-type {\n",
       "        vertical-align: middle;\n",
       "    }\n",
       "\n",
       "    .dataframe tbody tr th {\n",
       "        vertical-align: top;\n",
       "    }\n",
       "\n",
       "    .dataframe thead th {\n",
       "        text-align: right;\n",
       "    }\n",
       "</style>\n",
       "<table border=\"1\" class=\"dataframe\">\n",
       "  <thead>\n",
       "    <tr style=\"text-align: right;\">\n",
       "      <th></th>\n",
       "      <th>start_lat</th>\n",
       "      <th>start_lng</th>\n",
       "      <th>end_lat</th>\n",
       "      <th>end_lng</th>\n",
       "      <th>ride_value</th>\n",
       "    </tr>\n",
       "  </thead>\n",
       "  <tbody>\n",
       "    <tr>\n",
       "      <th>count</th>\n",
       "      <td>627210.000000</td>\n",
       "      <td>627210.000000</td>\n",
       "      <td>627210.000000</td>\n",
       "      <td>627210.000000</td>\n",
       "      <td>627210.000000</td>\n",
       "    </tr>\n",
       "    <tr>\n",
       "      <th>mean</th>\n",
       "      <td>59.428682</td>\n",
       "      <td>24.743468</td>\n",
       "      <td>59.397797</td>\n",
       "      <td>24.724847</td>\n",
       "      <td>2.261384</td>\n",
       "    </tr>\n",
       "    <tr>\n",
       "      <th>std</th>\n",
       "      <td>0.021764</td>\n",
       "      <td>0.056872</td>\n",
       "      <td>1.392755</td>\n",
       "      <td>1.650709</td>\n",
       "      <td>44.889892</td>\n",
       "    </tr>\n",
       "    <tr>\n",
       "      <th>min</th>\n",
       "      <td>59.321557</td>\n",
       "      <td>24.505199</td>\n",
       "      <td>-37.819979</td>\n",
       "      <td>-122.453962</td>\n",
       "      <td>0.107628</td>\n",
       "    </tr>\n",
       "    <tr>\n",
       "      <th>25%</th>\n",
       "      <td>59.418803</td>\n",
       "      <td>24.713140</td>\n",
       "      <td>59.415215</td>\n",
       "      <td>24.707919</td>\n",
       "      <td>0.545250</td>\n",
       "    </tr>\n",
       "    <tr>\n",
       "      <th>50%</th>\n",
       "      <td>59.432069</td>\n",
       "      <td>24.744674</td>\n",
       "      <td>59.430697</td>\n",
       "      <td>24.744335</td>\n",
       "      <td>1.059000</td>\n",
       "    </tr>\n",
       "    <tr>\n",
       "      <th>75%</th>\n",
       "      <td>59.439024</td>\n",
       "      <td>24.768115</td>\n",
       "      <td>59.439262</td>\n",
       "      <td>24.773924</td>\n",
       "      <td>1.712000</td>\n",
       "    </tr>\n",
       "    <tr>\n",
       "      <th>max</th>\n",
       "      <td>59.566998</td>\n",
       "      <td>24.973743</td>\n",
       "      <td>61.552744</td>\n",
       "      <td>144.966110</td>\n",
       "      <td>3172.701000</td>\n",
       "    </tr>\n",
       "  </tbody>\n",
       "</table>\n",
       "</div>"
      ],
      "text/plain": [
       "           start_lat      start_lng        end_lat        end_lng  \\\n",
       "count  627210.000000  627210.000000  627210.000000  627210.000000   \n",
       "mean       59.428682      24.743468      59.397797      24.724847   \n",
       "std         0.021764       0.056872       1.392755       1.650709   \n",
       "min        59.321557      24.505199     -37.819979    -122.453962   \n",
       "25%        59.418803      24.713140      59.415215      24.707919   \n",
       "50%        59.432069      24.744674      59.430697      24.744335   \n",
       "75%        59.439024      24.768115      59.439262      24.773924   \n",
       "max        59.566998      24.973743      61.552744     144.966110   \n",
       "\n",
       "          ride_value  \n",
       "count  627210.000000  \n",
       "mean        2.261384  \n",
       "std        44.889892  \n",
       "min         0.107628  \n",
       "25%         0.545250  \n",
       "50%         1.059000  \n",
       "75%         1.712000  \n",
       "max      3172.701000  "
      ]
     },
     "execution_count": 45,
     "metadata": {},
     "output_type": "execute_result"
    }
   ],
   "source": [
    "database.describe()"
   ]
  },
  {
   "cell_type": "markdown",
   "id": "occupied-experiment",
   "metadata": {},
   "source": [
    "We can see that the data is complete and we do not have any missing values."
   ]
  },
  {
   "cell_type": "code",
   "execution_count": 46,
   "id": "certified-france",
   "metadata": {},
   "outputs": [
    {
     "data": {
      "text/plain": [
       "array([[<AxesSubplot:title={'center':'start_lat'}>,\n",
       "        <AxesSubplot:title={'center':'start_lng'}>],\n",
       "       [<AxesSubplot:title={'center':'end_lat'}>,\n",
       "        <AxesSubplot:title={'center':'end_lng'}>],\n",
       "       [<AxesSubplot:title={'center':'ride_value'}>, <AxesSubplot:>]],\n",
       "      dtype=object)"
      ]
     },
     "execution_count": 46,
     "metadata": {},
     "output_type": "execute_result"
    },
    {
     "data": {
      "image/png": "[encoded data removed]",
      "text/plain": [
       "<Figure size 720x720 with 6 Axes>"
      ]
     },
     "metadata": {
      "needs_background": "light"
     },
     "output_type": "display_data"
    }
   ],
   "source": [
    "database.hist(figsize=(10,10),bins=50)"
   ]
  },
  {
   "cell_type": "markdown",
   "id": "iraqi-detector",
   "metadata": {},
   "source": [
    "We can see that the data is quite centralized and the ride values are quite small. \n",
    "\n",
    "Let's also check for correlations. "
   ]
  },
  {
   "cell_type": "markdown",
   "id": "agreed-advancement",
   "metadata": {},
   "source": [
    "#### Clean, select, transform\n",
    "\n",
    "At this phase the data is not usable yet hence will check what it includes, and we will work to explore and pre-prep it to be able to use it for deploying in the model. \n",
    "\n",
    "We will start by exploring trip information. We will convert the map projections of all the data from WGS84 to Estonian Coordinate System of 1997 since it has higher accuracy. "
   ]
  },
  {
   "cell_type": "code",
   "execution_count": 47,
   "id": "latter-frontier",
   "metadata": {},
   "outputs": [],
   "source": [
    "#For the region of Tallinn\n",
    "USER_EPSG = 3301"
   ]
  },
  {
   "cell_type": "code",
   "execution_count": 48,
   "id": "decreased-crash",
   "metadata": {
    "scrolled": true
   },
   "outputs": [
    {
     "name": "stdout",
     "output_type": "stream",
     "text": [
      "converting pick ups\n",
      "converting drop offs\n"
     ]
    }
   ],
   "source": [
    "#create geodataframe for pick ups\n",
    "print('converting pick ups')\n",
    "start = [ Point(xy) for xy in zip(database.start_lng,database.start_lat) ]\n",
    "gdf_start = gpd.GeoDataFrame(geometry = start,crs='epsg:4326').to_crs(USER_EPSG)\n",
    "database['X_pick'] = gdf_start.geometry.x\n",
    "database['Y_pick'] = gdf_start.geometry.y\n",
    "\n",
    "print('converting drop offs')\n",
    "end = [ Point(xy) for xy in zip(database.end_lng,database.end_lat) ]\n",
    "gdf_end = gpd.GeoDataFrame(geometry = end,crs='epsg:4326').to_crs(USER_EPSG)\n",
    "database['X_drop'] = gdf_end.geometry.x\n",
    "database['Y_drop'] = gdf_end.geometry.y\n"
   ]
  },
  {
   "cell_type": "markdown",
   "id": "acting-detector",
   "metadata": {},
   "source": [
    "Let's now convert the time into a more machine learning readable values (unix timestamps) and generate a new dataframe for usage."
   ]
  },
  {
   "cell_type": "code",
   "execution_count": 49,
   "id": "aggressive-passing",
   "metadata": {},
   "outputs": [],
   "source": [
    "database['timestamp'] = pd.to_datetime(database.start_time).astype(int)/10**9\n",
    "df = database[['timestamp','X_pick','Y_pick','X_drop','Y_drop','ride_value']]"
   ]
  },
  {
   "cell_type": "code",
   "execution_count": 50,
   "id": "forced-municipality",
   "metadata": {},
   "outputs": [
    {
     "data": {
      "text/html": [
       "<div>\n",
       "<style scoped>\n",
       "    .dataframe tbody tr th:only-of-type {\n",
       "        vertical-align: middle;\n",
       "    }\n",
       "\n",
       "    .dataframe tbody tr th {\n",
       "        vertical-align: top;\n",
       "    }\n",
       "\n",
       "    .dataframe thead th {\n",
       "        text-align: right;\n",
       "    }\n",
       "</style>\n",
       "<table border=\"1\" class=\"dataframe\">\n",
       "  <thead>\n",
       "    <tr style=\"text-align: right;\">\n",
       "      <th></th>\n",
       "      <th>timestamp</th>\n",
       "      <th>X_pick</th>\n",
       "      <th>Y_pick</th>\n",
       "      <th>X_drop</th>\n",
       "      <th>Y_drop</th>\n",
       "      <th>ride_value</th>\n",
       "    </tr>\n",
       "  </thead>\n",
       "  <tbody>\n",
       "    <tr>\n",
       "      <th>count</th>\n",
       "      <td>6.272100e+05</td>\n",
       "      <td>627210.000000</td>\n",
       "      <td>6.272100e+05</td>\n",
       "      <td>6.272100e+05</td>\n",
       "      <td>6.272100e+05</td>\n",
       "      <td>627210.000000</td>\n",
       "    </tr>\n",
       "    <tr>\n",
       "      <th>mean</th>\n",
       "      <td>1.647371e+09</td>\n",
       "      <td>542197.584707</td>\n",
       "      <td>6.588105e+06</td>\n",
       "      <td>5.393640e+05</td>\n",
       "      <td>6.586525e+06</td>\n",
       "      <td>2.261384</td>\n",
       "    </tr>\n",
       "    <tr>\n",
       "      <th>std</th>\n",
       "      <td>6.946702e+05</td>\n",
       "      <td>3213.321104</td>\n",
       "      <td>2.443914e+03</td>\n",
       "      <td>2.283149e+05</td>\n",
       "      <td>1.181326e+05</td>\n",
       "      <td>44.889892</td>\n",
       "    </tr>\n",
       "    <tr>\n",
       "      <th>min</th>\n",
       "      <td>1.646093e+09</td>\n",
       "      <td>528697.463224</td>\n",
       "      <td>6.576120e+06</td>\n",
       "      <td>-1.826490e+07</td>\n",
       "      <td>-7.036577e+06</td>\n",
       "      <td>0.107628</td>\n",
       "    </tr>\n",
       "    <tr>\n",
       "      <th>25%</th>\n",
       "      <td>1.646784e+09</td>\n",
       "      <td>540479.993231</td>\n",
       "      <td>6.586993e+06</td>\n",
       "      <td>5.401858e+05</td>\n",
       "      <td>6.586593e+06</td>\n",
       "      <td>0.545250</td>\n",
       "    </tr>\n",
       "    <tr>\n",
       "      <th>50%</th>\n",
       "      <td>1.647419e+09</td>\n",
       "      <td>542266.653598</td>\n",
       "      <td>6.588487e+06</td>\n",
       "      <td>5.422466e+05</td>\n",
       "      <td>6.588329e+06</td>\n",
       "      <td>1.059000</td>\n",
       "    </tr>\n",
       "    <tr>\n",
       "      <th>75%</th>\n",
       "      <td>1.647985e+09</td>\n",
       "      <td>543590.092218</td>\n",
       "      <td>6.589267e+06</td>\n",
       "      <td>5.439280e+05</td>\n",
       "      <td>6.589291e+06</td>\n",
       "      <td>1.712000</td>\n",
       "    </tr>\n",
       "    <tr>\n",
       "      <th>max</th>\n",
       "      <td>1.648512e+09</td>\n",
       "      <td>555203.729668</td>\n",
       "      <td>6.603546e+06</td>\n",
       "      <td>2.097293e+07</td>\n",
       "      <td>1.524474e+07</td>\n",
       "      <td>3172.701000</td>\n",
       "    </tr>\n",
       "  </tbody>\n",
       "</table>\n",
       "</div>"
      ],
      "text/plain": [
       "          timestamp         X_pick        Y_pick        X_drop        Y_drop  \\\n",
       "count  6.272100e+05  627210.000000  6.272100e+05  6.272100e+05  6.272100e+05   \n",
       "mean   1.647371e+09  542197.584707  6.588105e+06  5.393640e+05  6.586525e+06   \n",
       "std    6.946702e+05    3213.321104  2.443914e+03  2.283149e+05  1.181326e+05   \n",
       "min    1.646093e+09  528697.463224  6.576120e+06 -1.826490e+07 -7.036577e+06   \n",
       "25%    1.646784e+09  540479.993231  6.586993e+06  5.401858e+05  6.586593e+06   \n",
       "50%    1.647419e+09  542266.653598  6.588487e+06  5.422466e+05  6.588329e+06   \n",
       "75%    1.647985e+09  543590.092218  6.589267e+06  5.439280e+05  6.589291e+06   \n",
       "max    1.648512e+09  555203.729668  6.603546e+06  2.097293e+07  1.524474e+07   \n",
       "\n",
       "          ride_value  \n",
       "count  627210.000000  \n",
       "mean        2.261384  \n",
       "std        44.889892  \n",
       "min         0.107628  \n",
       "25%         0.545250  \n",
       "50%         1.059000  \n",
       "75%         1.712000  \n",
       "max      3172.701000  "
      ]
     },
     "execution_count": 50,
     "metadata": {},
     "output_type": "execute_result"
    }
   ],
   "source": [
    "df.describe()"
   ]
  },
  {
   "cell_type": "markdown",
   "id": "removed-georgia",
   "metadata": {},
   "source": [
    "Let's check the clean dataframe and the correlations"
   ]
  },
  {
   "cell_type": "markdown",
   "id": "efficient-green",
   "metadata": {},
   "source": [
    "It's clear that this is a synthetic data and the the pick up and drop coordinates were generated from a single array and randomly meshed on the map. "
   ]
  },
  {
   "cell_type": "code",
   "execution_count": 51,
   "id": "returning-rebel",
   "metadata": {},
   "outputs": [],
   "source": [
    "database['distances'] = gdf_start.geometry.distance(gdf_end)"
   ]
  },
  {
   "cell_type": "code",
   "execution_count": 52,
   "id": "charged-treasurer",
   "metadata": {},
   "outputs": [
    {
     "data": {
      "text/plain": [
       "<AxesSubplot:xlabel='distances', ylabel='ride_value'>"
      ]
     },
     "execution_count": 52,
     "metadata": {},
     "output_type": "execute_result"
    },
    {
     "data": {
      "image/png": "[encoded data removed]",
      "text/plain": [
       "<Figure size 432x288 with 1 Axes>"
      ]
     },
     "metadata": {
      "needs_background": "light"
     },
     "output_type": "display_data"
    }
   ],
   "source": [
    "database.plot(x='distances',y='ride_value',kind='scatter')"
   ]
  },
  {
   "cell_type": "markdown",
   "id": "agricultural-destiny",
   "metadata": {},
   "source": [
    "From the GADM website (https://gadm.org/data.html), I downloaded the map of Estonia and filtered out city of Tallinn. Let's visualize the results."
   ]
  },
  {
   "cell_type": "code",
   "execution_count": 53,
   "id": "olive-intellectual",
   "metadata": {},
   "outputs": [],
   "source": [
    "#import maps\n",
    "gdf_estonia = gpd.read_file('/home/sako/Data science lessons/bolt/estonia_map/gadm40_EST_3.shp')\n",
    "gdf_tallinn = gdf_estonia.explode().query('NAME_2 == \"Tallinn\"')\n",
    "gdf_tallinn['zone_NO'] = list(range(len(gdf_tallinn)))"
   ]
  },
  {
   "cell_type": "code",
   "execution_count": 54,
   "id": "established-dayton",
   "metadata": {
    "scrolled": false
   },
   "outputs": [
    {
     "data": {
      "text/plain": [
       "<AxesSubplot:xlabel='X_pick', ylabel='Y_pick'>"
      ]
     },
     "execution_count": 54,
     "metadata": {},
     "output_type": "execute_result"
    },
    {
     "data": {
      "image/png": "[encoded data removed]",
      "text/plain": [
       "<Figure size 720x720 with 1 Axes>"
      ]
     },
     "metadata": {
      "needs_background": "light"
     },
     "output_type": "display_data"
    }
   ],
   "source": [
    "ax = gdf_tallinn.to_crs(USER_EPSG).plot()\n",
    "df.plot(ax=ax,color='red',kind='scatter',x='X_pick',y='Y_pick',figsize=(10,10))"
   ]
  },
  {
   "cell_type": "markdown",
   "id": "coastal-disorder",
   "metadata": {},
   "source": [
    "### Step 3: Deploying a model\n",
    "\n",
    "For the purpose of this assignment and in a simplified way, we will simply try to estimate the **ride_value** using Linear regression. We will use time and location as features and the **ride_value** as the label. \n",
    "\n",
    "After the preparing the data one last transformation can be beneficial which is normalization. I will standardize the data to use it for deployment "
   ]
  },
  {
   "cell_type": "code",
   "execution_count": 55,
   "id": "defensive-apparatus",
   "metadata": {},
   "outputs": [],
   "source": [
    "from sklearn.linear_model import LinearRegression\n",
    "from sklearn.model_selection import train_test_split\n",
    "from sklearn.preprocessing import StandardScaler\n",
    "\n",
    "\n",
    "#Standardize\n",
    "y = np.array(df.ride_value)\n",
    "X = np.array(df[['timestamp','X_pick','Y_pick','X_drop','Y_drop']])\n",
    "X = StandardScaler().fit_transform(X)\n",
    "\n",
    "#split into train and test\n",
    "X_train, X_test, y_train, y_test = train_test_split(X, y, shuffle=True, train_size=0.3)\n",
    "\n",
    "#apply model\n",
    "model = LinearRegression().fit(X_train,y_train)\n",
    "\n",
    "#re-predict the test database\n",
    "y_pred = model.predict(X_test)\n",
    "\n",
    "\n"
   ]
  },
  {
   "cell_type": "markdown",
   "id": "foreign-panel",
   "metadata": {},
   "source": [
    "### Step 4: Report \n",
    "\n",
    "Let's plot the results and see the predicted values"
   ]
  },
  {
   "cell_type": "code",
   "execution_count": 56,
   "id": "developmental-europe",
   "metadata": {},
   "outputs": [
    {
     "name": "stdout",
     "output_type": "stream",
     "text": [
      "[INFO]: R^2 = 0.56\n",
      "[INFO]: RMSE = 29.54\n"
     ]
    }
   ],
   "source": [
    "from sklearn.metrics import mean_squared_error, r2_score\n",
    "r2 = r2_score(y_test, y_pred)\n",
    "rmse = mean_squared_error(y_test, y_pred, squared=False)\n",
    "\n",
    "print(f'[INFO]: R^2 = {r2:.2f}')\n",
    "print(f'[INFO]: RMSE = {rmse:.2f}')\n"
   ]
  },
  {
   "cell_type": "code",
   "execution_count": 57,
   "id": "anonymous-strap",
   "metadata": {},
   "outputs": [
    {
     "data": {
      "image/png": "[encoded data removed]",
      "text/plain": [
       "<Figure size 432x288 with 1 Axes>"
      ]
     },
     "metadata": {
      "needs_background": "light"
     },
     "output_type": "display_data"
    }
   ],
   "source": [
    "plt.plot(y_test,y_pred,'.',label='Linear regression')\n",
    "plt.plot(y_test,y_test,label='Optimal')\n",
    "plt.legend()\n",
    "plt.xlabel(\"ride_value TEST\")\n",
    "plt.ylabel(\"ride_value PRED\")\n",
    "\n",
    "plt.show()"
   ]
  },
  {
   "cell_type": "markdown",
   "id": "czech-organic",
   "metadata": {},
   "source": [
    "The result is quite interesting because we can see that all the predicted which are small are quite close to the optimal result and as the ride value increase the heteroskedasticity increase in a semi beneath a threshold scale. In most the cases the prediction is underestimated. "
   ]
  },
  {
   "cell_type": "markdown",
   "id": "threatened-recovery",
   "metadata": {},
   "source": [
    "In this work it is quite clear that using only ride_value which is directly correlated to the distance will give a linear correlation and help us estimate the ride value. \n",
    "\n",
    "When we start predict based on the latitude longitude and time things started to diverge and linear regression was unable to estimate correctly the high ride values. \n"
   ]
  },
  {
   "cell_type": "markdown",
   "id": "dedicated-kingdom",
   "metadata": {},
   "source": [
    "## Step 5: Act\n",
    "\n",
    "### Post analysis and iteration\n",
    "\n",
    "Usually for a data science project, after we make conclusions it is time to reiterate and check why our results were not that accurate, so we can:\n",
    "\n",
    "Try different techniques:\n",
    "* Prepare the historic data\n",
    "* Try different regression algorithms and ensemble models\n",
    "\n",
    "For example: *Demand Prediction of Ride-Hailing Pick-Up Location Using Ensemble\n",
    "Learning Methods* by Carson-Bell et al. 2021\n",
    "\n",
    "\n",
    "Try different paradigms:\n",
    "* Implement time series prediction algorithms (LSTM, ARIMA, Prophet,etc ... )\n",
    "* Apply time series backtesting ( window based cross-validation)\n",
    "* ABM models\n",
    "* Zonal predictions system instead of point predictions.  \n",
    "\n",
    "\n",
    "### A/B testing\n",
    "\n",
    "Let's say we want to see if promotions is increasing the number of orders made for each user for food delivery and encouraging people to order more than usual. \n",
    "\n",
    "Hypothesis: \n",
    "* *Case A*: Personalization based promotions based on history of rides and ride values for location frequented a lot like work or university. \n",
    "* *Case B*: Random promotions\n",
    "\n",
    "Target audience: \n",
    "* People who at least have one order per month ... (Frequent users) \n",
    "\n",
    "Algorithmically:\n",
    "* Will this mock AI/recommender have an effect on the customers? \n",
    "\n",
    "Check results: \n",
    "* Yes: The total number of orders increased especially for the favorite places; we see that is the number of orders per month increased so people are more encouraged to order. \n",
    "* No: The number of orders stayed the same. \n",
    "\n",
    "\n",
    "**What we will learn**: \n",
    "Based on the results and the customer information, we will learn new things and aim to change the method of implementation of promotions based on the behavior of customers. And using recommender systems will increase number of orders and as a result the revenues.   \n",
    "\n",
    "\n",
    "### Additional Data\n",
    "Use new additional data:\n",
    "* Weather changes\n",
    "* Special events\n",
    "* Time of day and weekday\n",
    "* Rush hours information  and street traffic volumes.  \n",
    "* Point of intersect (POIs)\n",
    "* POI ratings to understand the quality of the region \n",
    "* Gentrification levels  \n",
    "* Purchasing power of the community. \n",
    "* If the region is a student/university campus you might expect most of student to use public transport and carpool and they won't use the \"comfort\" version of the service. At least I was like that during my university years. I always waited for discounts and sometimes stopped using taxi hailing since it was out of my budget :) ....  "
   ]
  },
  {
   "cell_type": "code",
   "execution_count": 58,
   "id": "convenient-rebound",
   "metadata": {},
   "outputs": [],
   "source": [
    "database.sample(5000).to_csv(\"data_sample.csv\")"
   ]
  },
  {
   "cell_type": "code",
   "execution_count": null,
   "id": "refined-dairy",
   "metadata": {},
   "outputs": [],
   "source": []
  }
 ],
 "metadata": {
  "kernelspec": {
   "display_name": "Python 3 (ipykernel)",
   "language": "python",
   "name": "python3"
  },
  "language_info": {
   "codemirror_mode": {
    "name": "ipython",
    "version": 3
   },
   "file_extension": ".py",
   "mimetype": "text/x-python",
   "name": "python",
   "nbconvert_exporter": "python",
   "pygments_lexer": "ipython3",
   "version": "3.7.6"
  }
 },
 "nbformat": 4,
 "nbformat_minor": 5
}
